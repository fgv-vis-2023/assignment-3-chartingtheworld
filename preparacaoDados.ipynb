{
 "cells": [
  {
   "cell_type": "code",
   "execution_count": 1,
   "metadata": {},
   "outputs": [],
   "source": [
    "import pandas as pd\n",
    "\n",
    "def select_columns(df, columns):\n",
    "    df.rename(columns=columns, inplace=True)\n",
    "    df.rename(columns={\"Country Name\": \"country\", \"Country Code\": \"code\", \"Year\": \"year\"}, inplace=True)\n",
    "    return df[[\"country\", \"code\", \"year\"]+[column for column in columns.values()]]\n",
    "\n",
    "df_agriculture = pd.read_csv('./WB-datasets/agriculture-and-rural-development/agriculture-and-rural-development.csv')\n",
    "agriculture_columns = {\n",
    "    # \"average_value_Access to electricity, rural (% of rural population)\" : \"porcentagem da populacao rural com acesso a eletricidade\",\n",
    "    \"average_value_Agricultural raw materials exports (% of merchandise exports)\" : \"exportacao_de_materias_primas_agricolas\",\n",
    "    \"average_value_Agricultural raw materials imports (% of merchandise imports)\" : \"importacao_de_materias_primas_agricolas\",\n",
    "    \"average_value_Rural population (% of total population)\" : \"porcentagem_da_populacao_rural\",\n",
    "    # \"average_value_Agricultural methane emissions (% of total)\" : \"emissoes de metano agricolas\",\n",
    "}\n",
    "\n",
    "df_enviroment = pd.read_csv('./WB-datasets/environment/environment.csv')\n",
    "enviroment_columns = {\n",
    "    \"average_value_Adjusted savings: carbon dioxide damage (% of GNI)\" : \"dano_de_CO2_ajustado\",\n",
    "    \"average_value_Adjusted savings: education expenditure (% of GNI)\" : \"gastos_com_educacao_ajustados\",\n",
    "    \"average_value_People using at least basic drinking water services (% of population)\" : \"porcentagem_da_populacao_com_acesso_a_agua_potavel\",\n",
    "    \"average_value_People using at least basic sanitation services (% of population)\" : \"porcentagem_da_populacao_com_acesso_a_saneamento_basico\",\n",
    "    \"average_value_Total natural resources rents (% of GDP)\" : \"renda_total_de_recursos_naturais\",\n",
    "}   \n",
    "\n",
    "df_health = pd.read_csv('./WB-datasets/health/health.csv')\n",
    "health_columns = {\n",
    "    \"average_value_Population growth (annual %)\" : \"crescimento_populacional\",\n",
    "    \"average_value_Population, female (% of total population)\" : \"porcentagem_da_populacao_feminina\",\n",
    "    \"average_value_Population, total\" : \"populacao_total\",\n",
    "    \"average_value_Population ages 15-64 (% of total population)\" : \"porcentagem_da_populacao_entre_15_e_64_anos\",\n",
    "}\n",
    "\n",
    "df_poverty = pd.read_csv('./WB-datasets/poverty/poverty.csv')\n",
    "poverty_columns = {\n",
    "    # \"average_value_Gini index (World Bank estimate)\" : \"indice de gini\",\n",
    "    \"average_value_Proportion of people living below 50 percent of median income (%)\" : \"porcentagem_da_populacao_vivendo_com_menos_de_50%_da_renda_mediana\",\n",
    "}\n",
    "\n",
    "df_agriculture = select_columns(df_agriculture, agriculture_columns)\n",
    "df_enviroment = select_columns(df_enviroment, enviroment_columns)\n",
    "df_health = select_columns(df_health, health_columns)\n",
    "df_poverty = select_columns(df_poverty, poverty_columns)\n",
    "\n",
    "#  vamos dar join nos datasets para criar o df_brabo, ele será o full outer join de todos os datasets nas colunas country, code e year\n",
    "df_brabo = df_agriculture.merge(df_enviroment, on=[\"country\", \"code\", \"year\"], how=\"outer\")\n",
    "df_brabo = df_brabo.merge(df_health, on=[\"country\", \"code\", \"year\"], how=\"outer\")\n",
    "df_brabo = df_brabo.merge(df_poverty, on=[\"country\", \"code\", \"year\"], how=\"outer\")\n"
   ]
  },
  {
   "cell_type": "code",
   "execution_count": 2,
   "metadata": {},
   "outputs": [],
   "source": [
    "countries = pd.read_json('./data/countries.json')\n",
    "# lets add a continent column to the dataframe\n",
    "df_brabo['continent'] = df_brabo['country'].map(countries.set_index('country')['continent'])\n",
    "\n",
    "# Vamos mudar a entrada de country \"Korea, Dem. People's Rep.\" para \"North Korea\"\n",
    "df_health.loc[df_health['country'] == \"Korea, Dem. People's Rep.\", 'country'] = 'North Korea'\n",
    "# Agora Channel Islands, que é Chile \n",
    "df_health.loc[df_health['country'] == \"Channel Islands\", 'country'] = 'Chile'\n",
    "# Timor-Leste é East Timor\n",
    "df_health.loc[df_health['country'] == \"Timor-Leste\", 'country'] = 'East Timor'\n",
    "\n",
    "# vamos listar os países sem continente\n",
    "df_brabo[df_brabo['continent'].isna()]['country'].unique()\n",
    "\n",
    "# vamos remover todos os países que não tem continente\n",
    "df_brabo = df_brabo[df_brabo['continent'].notna()]\n"
   ]
  },
  {
   "cell_type": "code",
   "execution_count": 3,
   "metadata": {},
   "outputs": [],
   "source": [
    "# verificando os valores unicos dos países em ordem alfabetica\n",
    "countries = df_brabo['country'].unique()\n",
    "countries.sort()\n",
    "countries.tolist()\n",
    "\n",
    "# Agora vamos criar um dicionário com os países e seus valores corretos\n",
    "country_dict = {\n",
    "    'Dem. Rep. Congo': 'Congo, The Democratic Republic of the',\n",
    "    'Congo, Rep.': 'Congo',\n",
    "    'Egypt, Arab Rep.': 'Egypt',\n",
    "    'Iran, Islamic Rep.': 'Iran',\n",
    "    'Kyrgyz Republic': 'Kyrgyzstan',\n",
    "    \"Cote d'Ivoire\": \"Côte d'Ivoire\",\n",
    "    'Korea, Rep.': 'South Korea',\n",
    "    'Lao PDR': 'Laos',\n",
    "    'North Macedonia': 'Macedonia, Republic of',\n",
    "    'Russian Federation': 'Russia',\n",
    "    'Slovak Republic': 'Slovakia',\n",
    "    'Syrian Arab Republic': 'Syria',\n",
    "    'Tanzania': 'Tanzania, United Republic of',\n",
    "    'United Kingdom': 'United Kingdom of Great Britain and Northern Ireland',\n",
    "    'United States': 'United States of America',\n",
    "    'Venezuela, RB': 'Venezuela'\n",
    "}\n",
    "\n",
    "# Agora vamos substituir os valores no dataframe\n",
    "df_brabo['country'].replace(country_dict, inplace=True)"
   ]
  },
  {
   "cell_type": "code",
   "execution_count": 4,
   "metadata": {},
   "outputs": [],
   "source": [
    "# vamos exportar para um csv\n",
    "df_brabo.to_csv('data/data.csv', index=False)\n",
    "# e agora vamos exportar para um json\n",
    "df_brabo.to_json('data/data.json', orient='records')\n",
    "\n",
    "# agora repetindo o processo para o dataset de 2018\n",
    "df_brabo_2018 = df_brabo[df_brabo['year'] == 2018]\n",
    "df_brabo_2018.to_csv('data/data_2018.csv', index=False)\n",
    "df_brabo_2018.to_json('data/data_2018.json', orient='records')"
   ]
  },
  {
   "cell_type": "code",
   "execution_count": 5,
   "metadata": {},
   "outputs": [
    {
     "ename": "KeyError",
     "evalue": "'expectativa_de_vida'",
     "output_type": "error",
     "traceback": [
      "\u001b[1;31m---------------------------------------------------------------------------\u001b[0m",
      "\u001b[1;31mKeyError\u001b[0m                                  Traceback (most recent call last)",
      "File \u001b[1;32mc:\\Users\\Bryan\\AppData\\Local\\Programs\\Python\\Python311\\Lib\\site-packages\\pandas\\core\\indexes\\base.py:3652\u001b[0m, in \u001b[0;36mIndex.get_loc\u001b[1;34m(self, key)\u001b[0m\n\u001b[0;32m   3651\u001b[0m \u001b[39mtry\u001b[39;00m:\n\u001b[1;32m-> 3652\u001b[0m     \u001b[39mreturn\u001b[39;00m \u001b[39mself\u001b[39;49m\u001b[39m.\u001b[39;49m_engine\u001b[39m.\u001b[39;49mget_loc(casted_key)\n\u001b[0;32m   3653\u001b[0m \u001b[39mexcept\u001b[39;00m \u001b[39mKeyError\u001b[39;00m \u001b[39mas\u001b[39;00m err:\n",
      "File \u001b[1;32mc:\\Users\\Bryan\\AppData\\Local\\Programs\\Python\\Python311\\Lib\\site-packages\\pandas\\_libs\\index.pyx:147\u001b[0m, in \u001b[0;36mpandas._libs.index.IndexEngine.get_loc\u001b[1;34m()\u001b[0m\n",
      "File \u001b[1;32mc:\\Users\\Bryan\\AppData\\Local\\Programs\\Python\\Python311\\Lib\\site-packages\\pandas\\_libs\\index.pyx:176\u001b[0m, in \u001b[0;36mpandas._libs.index.IndexEngine.get_loc\u001b[1;34m()\u001b[0m\n",
      "File \u001b[1;32mpandas\\_libs\\hashtable_class_helper.pxi:7080\u001b[0m, in \u001b[0;36mpandas._libs.hashtable.PyObjectHashTable.get_item\u001b[1;34m()\u001b[0m\n",
      "File \u001b[1;32mpandas\\_libs\\hashtable_class_helper.pxi:7088\u001b[0m, in \u001b[0;36mpandas._libs.hashtable.PyObjectHashTable.get_item\u001b[1;34m()\u001b[0m\n",
      "\u001b[1;31mKeyError\u001b[0m: 'expectativa_de_vida'",
      "\nThe above exception was the direct cause of the following exception:\n",
      "\u001b[1;31mKeyError\u001b[0m                                  Traceback (most recent call last)",
      "Cell \u001b[1;32mIn[5], line 2\u001b[0m\n\u001b[0;32m      1\u001b[0m \u001b[39m# vamos verificar o range de valores da expectativa de vida\u001b[39;00m\n\u001b[1;32m----> 2\u001b[0m df_brabo[\u001b[39m'\u001b[39;49m\u001b[39mexpectativa_de_vida\u001b[39;49m\u001b[39m'\u001b[39;49m]\u001b[39m.\u001b[39mdescribe()\n",
      "File \u001b[1;32mc:\\Users\\Bryan\\AppData\\Local\\Programs\\Python\\Python311\\Lib\\site-packages\\pandas\\core\\frame.py:3760\u001b[0m, in \u001b[0;36mDataFrame.__getitem__\u001b[1;34m(self, key)\u001b[0m\n\u001b[0;32m   3758\u001b[0m \u001b[39mif\u001b[39;00m \u001b[39mself\u001b[39m\u001b[39m.\u001b[39mcolumns\u001b[39m.\u001b[39mnlevels \u001b[39m>\u001b[39m \u001b[39m1\u001b[39m:\n\u001b[0;32m   3759\u001b[0m     \u001b[39mreturn\u001b[39;00m \u001b[39mself\u001b[39m\u001b[39m.\u001b[39m_getitem_multilevel(key)\n\u001b[1;32m-> 3760\u001b[0m indexer \u001b[39m=\u001b[39m \u001b[39mself\u001b[39;49m\u001b[39m.\u001b[39;49mcolumns\u001b[39m.\u001b[39;49mget_loc(key)\n\u001b[0;32m   3761\u001b[0m \u001b[39mif\u001b[39;00m is_integer(indexer):\n\u001b[0;32m   3762\u001b[0m     indexer \u001b[39m=\u001b[39m [indexer]\n",
      "File \u001b[1;32mc:\\Users\\Bryan\\AppData\\Local\\Programs\\Python\\Python311\\Lib\\site-packages\\pandas\\core\\indexes\\base.py:3654\u001b[0m, in \u001b[0;36mIndex.get_loc\u001b[1;34m(self, key)\u001b[0m\n\u001b[0;32m   3652\u001b[0m     \u001b[39mreturn\u001b[39;00m \u001b[39mself\u001b[39m\u001b[39m.\u001b[39m_engine\u001b[39m.\u001b[39mget_loc(casted_key)\n\u001b[0;32m   3653\u001b[0m \u001b[39mexcept\u001b[39;00m \u001b[39mKeyError\u001b[39;00m \u001b[39mas\u001b[39;00m err:\n\u001b[1;32m-> 3654\u001b[0m     \u001b[39mraise\u001b[39;00m \u001b[39mKeyError\u001b[39;00m(key) \u001b[39mfrom\u001b[39;00m \u001b[39merr\u001b[39;00m\n\u001b[0;32m   3655\u001b[0m \u001b[39mexcept\u001b[39;00m \u001b[39mTypeError\u001b[39;00m:\n\u001b[0;32m   3656\u001b[0m     \u001b[39m# If we have a listlike key, _check_indexing_error will raise\u001b[39;00m\n\u001b[0;32m   3657\u001b[0m     \u001b[39m#  InvalidIndexError. Otherwise we fall through and re-raise\u001b[39;00m\n\u001b[0;32m   3658\u001b[0m     \u001b[39m#  the TypeError.\u001b[39;00m\n\u001b[0;32m   3659\u001b[0m     \u001b[39mself\u001b[39m\u001b[39m.\u001b[39m_check_indexing_error(key)\n",
      "\u001b[1;31mKeyError\u001b[0m: 'expectativa_de_vida'"
     ]
    }
   ],
   "source": [
    "# vamos verificar o range de valores da expectativa de vida\n",
    "df_brabo['expectativa_de_vida'].describe()"
   ]
  },
  {
   "cell_type": "code",
   "execution_count": null,
   "metadata": {},
   "outputs": [],
   "source": []
  }
 ],
 "metadata": {
  "kernelspec": {
   "display_name": "Python 3",
   "language": "python",
   "name": "python3"
  },
  "language_info": {
   "codemirror_mode": {
    "name": "ipython",
    "version": 3
   },
   "file_extension": ".py",
   "mimetype": "text/x-python",
   "name": "python",
   "nbconvert_exporter": "python",
   "pygments_lexer": "ipython3",
   "version": "3.11.2"
  },
  "orig_nbformat": 4
 },
 "nbformat": 4,
 "nbformat_minor": 2
}
