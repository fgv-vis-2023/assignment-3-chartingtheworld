{
 "cells": [
  {
   "cell_type": "code",
   "execution_count": 1,
   "metadata": {},
   "outputs": [],
   "source": [
    "import pandas as pd\n",
    "\n",
    "def select_columns(df, columns):\n",
    "    df.rename(columns=columns, inplace=True)\n",
    "    df.rename(columns={\"Country Name\": \"country\", \"Country Code\": \"code\", \"Year\": \"year\"}, inplace=True)\n",
    "    return df[[\"country\", \"code\", \"year\"]+[column for column in columns.values()]]\n",
    "\n",
    "df_agriculture = pd.read_csv('./WB-datasets/agriculture-and-rural-development/agriculture-and-rural-development.csv')\n",
    "agriculture_columns = {\n",
    "    # \"average_value_Access to electricity, rural (% of rural population)\" : \"porcentagem da populacao rural com acesso a eletricidade\",\n",
    "    \"average_value_Agricultural raw materials exports (% of merchandise exports)\" : \"exportacao_de_materias_primas_agricolas\",\n",
    "    \"average_value_Agricultural raw materials imports (% of merchandise imports)\" : \"importacao_de_materias_primas_agricolas\",\n",
    "    \"average_value_Rural population (% of total population)\" : \"porcentagem_da_populacao_rural\",\n",
    "    # \"average_value_Agricultural methane emissions (% of total)\" : \"emissoes de metano agricolas\",\n",
    "}\n",
    "\n",
    "df_enviroment = pd.read_csv('./WB-datasets/environment/environment.csv')\n",
    "enviroment_columns = {\n",
    "    \"average_value_Adjusted savings: carbon dioxide damage (% of GNI)\" : \"dano_de_CO2_ajustado\",\n",
    "    \"average_value_Adjusted savings: education expenditure (% of GNI)\" : \"gastos_com_educacao_ajustados\",\n",
    "    \"average_value_People using at least basic drinking water services (% of population)\" : \"porcentagem_da_populacao_com_acesso_a_agua_potavel\",\n",
    "    \"average_value_People using at least basic sanitation services (% of population)\" : \"porcentagem_da_populacao_com_acesso_a_saneamento_basico\",\n",
    "    \"average_value_Total natural resources rents (% of GDP)\" : \"renda_total_de_recursos_naturais\",\n",
    "}   \n",
    "\n",
    "df_health = pd.read_csv('./WB-datasets/health/health.csv')\n",
    "health_columns = {\n",
    "    \"average_value_Population growth (annual %)\" : \"crescimento_populacional\",\n",
    "    \"average_value_Population, female (% of total population)\" : \"porcentagem_da_populacao_feminina\",\n",
    "    \"average_value_Population, total\" : \"populacao_total\",\n",
    "    \"average_value_Population ages 15-64 (% of total population)\" : \"porcentagem_da_populacao_entre_15_e_64_anos\",\n",
    "}\n",
    "\n",
    "df_poverty = pd.read_csv('./WB-datasets/poverty/poverty.csv')\n",
    "poverty_columns = {\n",
    "    # \"average_value_Gini index (World Bank estimate)\" : \"indice de gini\",\n",
    "    \"average_value_Proportion of people living below 50 percent of median income (%)\" : \"porcentagem da populacao vivendo com menos de 50% da renda mediana\",\n",
    "}\n",
    "\n",
    "df_agriculture = select_columns(df_agriculture, agriculture_columns)\n",
    "df_enviroment = select_columns(df_enviroment, enviroment_columns)\n",
    "df_health = select_columns(df_health, health_columns)\n",
    "df_poverty = select_columns(df_poverty, poverty_columns)\n",
    "\n",
    "df_brabo = pd.merge(df_agriculture, df_enviroment, on=[\"country\", \"code\", \"year\"])\n",
    "df_brabo = pd.merge(df_brabo, df_health, on=[\"country\", \"code\", \"year\"])\n",
    "df_brabo = pd.merge(df_brabo, df_poverty, on=[\"country\", \"code\", \"year\"])\n"
   ]
  },
  {
   "cell_type": "code",
   "execution_count": 2,
   "metadata": {},
   "outputs": [],
   "source": [
    "countries = pd.read_json('./data/countries.json')\n",
    "# lets add a continent column to the dataframe\n",
    "df_brabo['continent'] = df_brabo['country'].map(countries.set_index('country')['continent'])\n",
    "\n",
    "# Vamos mudar a entrada de country \"Korea, Dem. People's Rep.\" para \"North Korea\"\n",
    "df_health.loc[df_health['country'] == \"Korea, Dem. People's Rep.\", 'country'] = 'North Korea'\n",
    "# Agora Channel Islands, que é Chile \n",
    "df_health.loc[df_health['country'] == \"Channel Islands\", 'country'] = 'Chile'\n",
    "# Timor-Leste é East Timor\n",
    "df_health.loc[df_health['country'] == \"Timor-Leste\", 'country'] = 'East Timor'\n",
    "\n",
    "# vamos listar os países sem continente\n",
    "df_brabo[df_brabo['continent'].isna()]['country'].unique()\n",
    "\n",
    "# vamos remover todos os países que não tem continente\n",
    "df_brabo = df_brabo[df_brabo['continent'].notna()]\n"
   ]
  },
  {
   "cell_type": "code",
   "execution_count": 3,
   "metadata": {},
   "outputs": [],
   "source": [
    "# vamos exportar para um csv\n",
    "df_brabo.to_csv('data/data.csv', index=False)\n",
    "# e agora vamos exportar para um json\n",
    "df_brabo.to_json('data/data.json', orient='records')\n",
    "\n",
    "# agora repetindo o processo para o dataset de 2018\n",
    "df_brabo_2018 = df_brabo[df_brabo['year'] == 2018]\n",
    "df_brabo_2018.to_csv('data/data_2018.csv', index=False)\n",
    "df_brabo_2018.to_json('data/data_2018.json', orient='records')"
   ]
  },
  {
   "cell_type": "code",
   "execution_count": 4,
   "metadata": {},
   "outputs": [
    {
     "data": {
      "text/html": [
       "<div>\n",
       "<style scoped>\n",
       "    .dataframe tbody tr th:only-of-type {\n",
       "        vertical-align: middle;\n",
       "    }\n",
       "\n",
       "    .dataframe tbody tr th {\n",
       "        vertical-align: top;\n",
       "    }\n",
       "\n",
       "    .dataframe thead th {\n",
       "        text-align: right;\n",
       "    }\n",
       "</style>\n",
       "<table border=\"1\" class=\"dataframe\">\n",
       "  <thead>\n",
       "    <tr style=\"text-align: right;\">\n",
       "      <th></th>\n",
       "      <th>country</th>\n",
       "      <th>code</th>\n",
       "      <th>year</th>\n",
       "      <th>exportacao_de_materias_primas_agricolas</th>\n",
       "      <th>importacao_de_materias_primas_agricolas</th>\n",
       "      <th>porcentagem_da_populacao_rural</th>\n",
       "      <th>dano_de_CO2_ajustado</th>\n",
       "      <th>gastos_com_educacao_ajustados</th>\n",
       "      <th>porcentagem_da_populacao_com_acesso_a_agua_potavel</th>\n",
       "      <th>porcentagem_da_populacao_com_acesso_a_saneamento_basico</th>\n",
       "      <th>renda_total_de_recursos_naturais</th>\n",
       "      <th>crescimento_populacional</th>\n",
       "      <th>porcentagem_da_populacao_feminina</th>\n",
       "      <th>populacao_total</th>\n",
       "      <th>porcentagem_da_populacao_entre_15_e_64_anos</th>\n",
       "      <th>porcentagem da populacao vivendo com menos de 50% da renda mediana</th>\n",
       "      <th>continent</th>\n",
       "    </tr>\n",
       "  </thead>\n",
       "  <tbody>\n",
       "  </tbody>\n",
       "</table>\n",
       "</div>"
      ],
      "text/plain": [
       "Empty DataFrame\n",
       "Columns: [country, code, year, exportacao_de_materias_primas_agricolas, importacao_de_materias_primas_agricolas, porcentagem_da_populacao_rural, dano_de_CO2_ajustado, gastos_com_educacao_ajustados, porcentagem_da_populacao_com_acesso_a_agua_potavel, porcentagem_da_populacao_com_acesso_a_saneamento_basico, renda_total_de_recursos_naturais, crescimento_populacional, porcentagem_da_populacao_feminina, populacao_total, porcentagem_da_populacao_entre_15_e_64_anos, porcentagem da populacao vivendo com menos de 50% da renda mediana, continent]\n",
       "Index: []"
      ]
     },
     "execution_count": 4,
     "metadata": {},
     "output_type": "execute_result"
    }
   ],
   "source": [
    "# verificando a entrada da somalinandia\n",
    "df_brabo[df_brabo['country'] == 'Somaliland']"
   ]
  },
  {
   "cell_type": "code",
   "execution_count": null,
   "metadata": {},
   "outputs": [],
   "source": []
  }
 ],
 "metadata": {
  "kernelspec": {
   "display_name": "Python 3",
   "language": "python",
   "name": "python3"
  },
  "language_info": {
   "codemirror_mode": {
    "name": "ipython",
    "version": 3
   },
   "file_extension": ".py",
   "mimetype": "text/x-python",
   "name": "python",
   "nbconvert_exporter": "python",
   "pygments_lexer": "ipython3",
   "version": "3.11.2"
  },
  "orig_nbformat": 4
 },
 "nbformat": 4,
 "nbformat_minor": 2
}
